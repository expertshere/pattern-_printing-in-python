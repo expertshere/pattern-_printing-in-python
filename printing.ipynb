{
 "cells": [
  {
   "cell_type": "code",
   "execution_count": 11,
   "id": "cb3f8dd6",
   "metadata": {},
   "outputs": [
    {
     "name": "stdout",
     "output_type": "stream",
     "text": [
      "enter the number:6\n",
      "     *\n",
      "    ***\n",
      "   *****\n",
      "  *******\n",
      " *********\n",
      "***********\n"
     ]
    }
   ],
   "source": [
    "n=int(input(\"enter the number:\"))\n",
    "for i in range(n):\n",
    "    for j in range(n-i-1):\n",
    "        print(\" \",end=\"\")\n",
    "    for j in range(2*i+1):\n",
    "        print(\"*\",end=\"\")\n",
    "    print()"
   ]
  },
  {
   "cell_type": "code",
   "execution_count": 2,
   "id": "13b12dd2",
   "metadata": {},
   "outputs": [
    {
     "name": "stdout",
     "output_type": "stream",
     "text": [
      "enter the number:6\n",
      "*\n",
      "**\n",
      "***\n",
      "****\n",
      "*****\n",
      "******\n"
     ]
    }
   ],
   "source": [
    "num=int(input(\"enter the number:\"))\n",
    "\n",
    "for i in range(num):\n",
    "    print(\"\"*(num-1)+\"*\"*(i+1))"
   ]
  },
  {
   "cell_type": "code",
   "execution_count": 16,
   "id": "cd97dd86",
   "metadata": {},
   "outputs": [
    {
     "name": "stdout",
     "output_type": "stream",
     "text": [
      "   *\n",
      "  ***\n",
      " *****\n",
      "*******\n",
      " *****\n",
      "  ***\n",
      "   *\n"
     ]
    }
   ],
   "source": [
    "for i in range(4):\n",
    "    for j in range(i+1,4):\n",
    "        print(' ',end='')\n",
    "    for j in range(i+1):\n",
    "        print(\"*\",end='')\n",
    "    for j in range(i):\n",
    "        print(\"*\",end='')\n",
    "    print()\n",
    "    \n",
    "   \n",
    "for i in range(3):\n",
    "    for j in range(i+1):\n",
    "        print(' ',end='')\n",
    "    for j in range(i,3):\n",
    "        print(\"*\",end='')\n",
    "    for j in range(i+1,3):\n",
    "        print(\"*\",end='')\n",
    "    print()\n",
    "    \n",
    "        "
   ]
  },
  {
   "cell_type": "code",
   "execution_count": 4,
   "id": "b757f15a",
   "metadata": {},
   "outputs": [
    {
     "name": "stdout",
     "output_type": "stream",
     "text": [
      "***********\n",
      "***********\n",
      "***********\n",
      "***********\n",
      "***********\n",
      "***********\n"
     ]
    }
   ],
   "source": [
    "for i in range(1,7):\n",
    "    for j in range(1,12):\n",
    "        print(\"*\",end='')\n",
    "    print()"
   ]
  },
  {
   "cell_type": "code",
   "execution_count": null,
   "id": "a32c62ca",
   "metadata": {},
   "outputs": [],
   "source": [
    "for i in range(4):\n",
    "    for j in range(i+1,4):\n",
    "        print(' ',end='')\n",
    "    for j in range(i+1):\n",
    "        print(\"*\",end='')\n",
    "    for j in range(i):\n",
    "        print(\"*\",end='')\n",
    "    print()\n",
    "    \n",
    "   \n",
    "for i in range(3):\n",
    "    for j in range(i+1):\n",
    "        print(' ',end='')\n",
    "    for j in range(i,3):\n",
    "        print(\"*\",end='')\n",
    "    for j in range(i+1,3):\n",
    "        print(\"*\",end='')"
   ]
  },
  {
   "cell_type": "code",
   "execution_count": 34,
   "id": "1e0eb05c",
   "metadata": {},
   "outputs": [
    {
     "name": "stdout",
     "output_type": "stream",
     "text": [
      " *******\n",
      "  *****\n",
      "   ***\n",
      "    *\n",
      "   ***\n",
      "  *****\n",
      " *******\n"
     ]
    }
   ],
   "source": [
    "   \n",
    "for i in range(4):\n",
    "    for j in range(i+1):\n",
    "        print(' ',end='')\n",
    "    for j in range(i,4):\n",
    "        print(\"*\",end='')\n",
    "    for j in range(i+1,4):\n",
    "        print(\"*\",end='')\n",
    "    print()\n",
    "    \n",
    "for i in range(3):\n",
    "    for j in range(i+0,3):\n",
    "        print(' ',end='')\n",
    "    for j in range(i+3):\n",
    "        print(\"*\",end='')\n",
    "    for j in range(i):\n",
    "        print(\"*\",end='')\n",
    "    print()"
   ]
  },
  {
   "cell_type": "markdown",
   "id": "0893eae0",
   "metadata": {},
   "source": [
    "### "
   ]
  }
 ],
 "metadata": {
  "kernelspec": {
   "display_name": "Python 3 (ipykernel)",
   "language": "python",
   "name": "python3"
  },
  "language_info": {
   "codemirror_mode": {
    "name": "ipython",
    "version": 3
   },
   "file_extension": ".py",
   "mimetype": "text/x-python",
   "name": "python",
   "nbconvert_exporter": "python",
   "pygments_lexer": "ipython3",
   "version": "3.11.5"
  }
 },
 "nbformat": 4,
 "nbformat_minor": 5
}
